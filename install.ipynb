{
 "cells": [
  {
   "cell_type": "markdown",
   "metadata": {},
   "source": [
    "# Jupyter Install\n",
    "\n",
    "<img src=\"images/logos.3.600.wide.png\" width=\"600\" align='right'>\n",
    "\n",
    "## Chalmer Lowe"
   ]
  },
  {
   "cell_type": "markdown",
   "metadata": {},
   "source": [
    "# Installation"
   ]
  },
  {
   "cell_type": "markdown",
   "metadata": {},
   "source": [
    "Jupyter, itself, runs on **Python**.\n",
    "\n",
    "But Jupyter can run multiple languages within it (like **Julia**, **Scala**, **Ruby**, etc).\n",
    "\n",
    "Thus far, the easiest method I have found for installing Jupyter is to use the **Miniconda installer**.\n",
    "\n",
    "## Step 1: Download\n",
    "Download at http://conda.pydata.org/miniconda.html OR [goo.gl/dU9FdM](http://goo.gl/dU9FdM).\n",
    "\n",
    "## Step 2: Install Miniconda\n",
    "You should be able to follow the directions at the Quick Install http://conda.pydata.org/docs/install/quick.html OR [goo.gl/KkxYHD](https://goo.gl/KkxYHD) page to get Miniconda installed. \n",
    "\n",
    "Once you have Miniconda installed, come back here and follow the following steps to get Jupyter installed."
   ]
  },
  {
   "cell_type": "markdown",
   "metadata": {},
   "source": [
    "## Step 3: Create a conda virtual environment\n",
    "\n",
    "Run the following commands in the command-line to create a virtual environment (virtualenv) to separate Python, Jupyter and the other software from the rest of your machine, so that you don't mess up any other installs that you have.\n",
    "\n",
    "\n",
    "We start by creating a **new** virtual environment called **tutorial** with python installed in it.<br>\n",
    "<code>conda create -n tutorial python</code><br>\n",
    "\n",
    "When asked, press **<code>y</code>** to confirm the creation of the virtualenv.\n",
    "\n",
    "Use the following command on the command-line to activate the virtual environment so that we can use it...\n",
    "\n",
    "**Linux / OSX:**<br><code>source activate tutorial</code><br>\n",
    "**Windows: **<br><code>activate tutorial</code>"
   ]
  },
  {
   "cell_type": "markdown",
   "metadata": {},
   "source": [
    "## Step 4: Install Jupyter\n",
    "\n",
    "From within the activated virtualenv run this command on the command-line\n",
    "\n",
    "<code>conda install jupyter</code>\n",
    "\n",
    "When asked, press **<code>y</code>** to confirm the installation."
   ]
  },
  {
   "cell_type": "markdown",
   "metadata": {},
   "source": [
    "## Step 5: Install the rest of the stuff\n",
    "\n",
    "For each of the following, when, asked press **<code>y</code>** to confirm the installation.\n",
    "\n",
    "<code>conda install matplotlib</code><br>\n",
    "<code>conda install bokeh</code><br>\n",
    "<code>conda install numpy</code><br>\n",
    "<code>conda install pandas</code>"
   ]
  },
  {
   "cell_type": "markdown",
   "metadata": {},
   "source": [
    "## Step 6: Test the install...\n",
    "\n",
    "On the command-line, do the following:\n",
    "1. Type <code>jupyter</code><br>\n",
    "You should see a usage message describing how to use jupyter.\n",
    "1. Type <code>ipython</code> and wait for the ipython prompt to appear.\n",
    "2. Type <code>import numpy, pandas, matplotlib, bokeh</code>\n",
    "\n",
    "If all has gone well, you will have successfully installed all of the above packages.\n",
    "\n",
    "Type <code>quit()</code> to leave the ipython interpreter and return to the command prompt."
   ]
  }
 ],
 "metadata": {
  "anaconda-cloud": {},
  "kernelspec": {
   "display_name": "Python 3",
   "language": "python",
   "name": "python3"
  },
  "language_info": {
   "codemirror_mode": {
    "name": "ipython",
    "version": 3
   },
   "file_extension": ".py",
   "mimetype": "text/x-python",
   "name": "python",
   "nbconvert_exporter": "python",
   "pygments_lexer": "ipython3",
   "version": "3.6.6"
  },
  "widgets": {
   "state": {
    "0b6989a8dc0548bfbed6087f14cfca9a": {
     "views": [
      {
       "cell_index": 75
      }
     ]
    },
    "62702de098e944e9bf3d34604a661894": {
     "views": [
      {
       "cell_index": 79
      }
     ]
    },
    "75f6f0f5384f4d8482f79a48491cdef2": {
     "views": [
      {
       "cell_index": 81
      }
     ]
    },
    "a8759feddaab4c038338b943e3b2df76": {
     "views": [
      {
       "cell_index": 78
      }
     ]
    },
    "abf03cb0652c477bb8296444db845527": {
     "views": [
      {
       "cell_index": 82
      }
     ]
    },
    "b9172ac71f8045fe9e3f9949e96167b6": {
     "views": [
      {
       "cell_index": 80
      }
     ]
    },
    "c47cdaedc6274d2a91dbc1efd5f42ae5": {
     "views": [
      {
       "cell_index": 75
      }
     ]
    },
    "c93cfa5e2a9546f8a2951afaf2ec6c74": {
     "views": [
      {
       "cell_index": 77
      }
     ]
    },
    "e4dfebd9e8ee41e8b356b43d90d21a80": {
     "views": [
      {
       "cell_index": 73
      }
     ]
    }
   },
   "version": "1.2.0"
  }
 },
 "nbformat": 4,
 "nbformat_minor": 2
}
