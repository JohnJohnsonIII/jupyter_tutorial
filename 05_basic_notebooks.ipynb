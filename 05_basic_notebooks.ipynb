{
 "cells": [
  {
   "cell_type": "markdown",
   "metadata": {},
   "source": [
    "# INTRO TO NOTEBOOKS\n",
    "## Python, Markdown, and execution of code\n",
    "\n",
    "<img src=\"images/logos.3.600.wide.png\" width=\"600\" align='right'>\n",
    "\n",
    "### Chalmer Lowe\n",
    "\n",
    "---"
   ]
  },
  {
   "cell_type": "markdown",
   "metadata": {},
   "source": [
    "# Objectives\n",
    "---"
   ]
  },
  {
   "cell_type": "markdown",
   "metadata": {},
   "source": [
    "By the end of this lesson, students will be able to:\n",
    "\n",
    "* Add Python code to a Notebook cell\n",
    "* Effective use of Notebook cells\n",
    "* Revise and execute code\n",
    "* Use Markdown to comment your code\n",
    "* Control AND edit your Notebook\n"
   ]
  },
  {
   "cell_type": "markdown",
   "metadata": {},
   "source": [
    "# Header\n",
    "---"
   ]
  },
  {
   "cell_type": "code",
   "execution_count": null,
   "metadata": {},
   "outputs": [],
   "source": []
  },
  {
   "cell_type": "markdown",
   "metadata": {},
   "source": [
    "# Getting your feet wet: basic uses"
   ]
  },
  {
   "cell_type": "markdown",
   "metadata": {},
   "source": [
    "Click back on the browser tab for your notebook: 'my_notebook' to practice basic techniques.\n",
    "\n",
    "At this point you should be on your browser tab looking at your new empty notebook.\n",
    "\n",
    "<img src=\"images/new_notebook.png\" width=\"800\">\n",
    "\n",
    "Let's dive in a bit and then come back to look at the interface...\n",
    "\n",
    "1. Click your cursor in the open field labeled: **In [ ]**\n",
    "2. Type the following formula in to the field: 2 * 2\n",
    "3. Press **Shift + Enter**\n",
    "\n",
    "You should notice that:\n",
    "1. The **IN [ ]** field now looks like this: **In [1]**\n",
    "2. An **Out[1]** line with the answer '4' has appeared\n",
    "3. A new **In [ ]** field has appeared.\n",
    "\n",
    "<img src=\"images/nb_first_calc.png\" width=\"800\">"
   ]
  },
  {
   "cell_type": "markdown",
   "metadata": {},
   "source": [
    "## Simple code execution and revision:\n",
    "\n",
    "For the next few minutes, let's play with this notebook, by:\n",
    "* adding code\n",
    "* executing that code\n",
    "* adding more code (i.e. a simple function)\n",
    "* revising previous code\n",
    "* re-executing follow-on code\n",
    "\n",
    "\n",
    "\n"
   ]
  },
  {
   "cell_type": "markdown",
   "metadata": {},
   "source": [
    "## Adding code cell by cell.\n",
    "\n",
    "Code can be added into an existing cell OR into a new cell.\n",
    "\n",
    "Do the following in your sample notebook:\n",
    "1. In an empty cell, create a variable, like this:\n",
    "    \n",
    "    <code><font color=\"blue\">phrase = 'Hello world!'</font></code>\n",
    "2. Press **Shift+Enter**\n",
    "3. In a new cell, type:\n",
    "\n",
    "    <code><font color=\"blue\">print(phrase)</font></code>\n",
    "\n",
    "4. Press **Shift+Enter**\n",
    "\n",
    "\n"
   ]
  },
  {
   "cell_type": "markdown",
   "metadata": {},
   "source": [
    "## Adding longer snippets of code in a single cell.\n",
    "\n",
    "Longer snippets of code can be added to a cell to group like thoughts together.\n",
    "\n",
    "Do the following in your sample notebook:\n",
    "1. In an empty cell, create a simple function and then call it, like this. To add a new line to a cell, simply press **Enter** (instead of **Shift+Enter**):\n",
    "    \n",
    "    <code>def display(phrase):\n",
    "        print(phrase, 'we love Jupyter!')\n",
    "        \n",
    "   display(phrase)</code><br><br>\n",
    "\n",
    "2. Press **Shift+Enter**"
   ]
  },
  {
   "cell_type": "markdown",
   "metadata": {},
   "source": [
    "## What if you realize your earlier code is faulty?\n",
    "\n",
    "You can easily revisit previous cells to edit the content, but you need to be careful to ensure that follow-on cells execute appropriately.\n",
    "\n",
    "Do the following in your sample notebook:\n",
    "1. Return to the cell that has the line:\n",
    "\n",
    "    <code>phrase = 'Hello world!'</code>\n",
    "\n",
    "2. Revise the text to say...\n",
    "\n",
    "    <code>phrase = 'Aloha world!'</code>\n",
    "\n",
    "3. Press **Shift+Enter**\n",
    "\n",
    "NOTE: \n",
    "1. the number in the **In [#]** will change.\n",
    "2. **None** of the following cells will execute.\n",
    "3. To cause them to execute, you have several options. Let's start with one you are familiar with...:\n",
    "\n",
    "### Execute your remaining cells\n",
    "1. Press **Shift+Enter** to execute the next cell\n",
    "2. Press **Shift+Enter** to execute the last cell\n",
    "\n",
    "Each of the two cells should execute and the outputs should change to reflect the new phrase.\n"
   ]
  },
  {
   "cell_type": "markdown",
   "metadata": {},
   "source": [
    "# Other means of executing code:\n",
    "\n",
    "There are several other ways of executing code in cells, besides repetitive use of the **Shift+Enter** keyboard shortcut.\n",
    "\n",
    "## Run cells\n",
    "\n",
    "To run specific cells, you can use commands found in the Cell menu\n",
    "1. Click in the cell containing \"Aloha world!\" and change the content to read \"Aloha Hawaii!\"\n",
    "2. Click the Cell menu\n",
    "3. Click the entry: \"Run All Below\"\n",
    "<img src=\"images/run_cells.png\" width=\"250\">\n",
    "\n",
    "NOTE: All the following cells execute in order, until the end of the notebook is reached.\n",
    "\n",
    "You can also execute:\n",
    "* run all the previous cells\n",
    "* an individual cell\n",
    "* the current cell and select the following cell\n",
    "* the current cell and insert a following cell\n",
    "\n",
    "NOTE: There are additional options that we will cover re: selecting multiple contiguous cells.\n",
    "\n",
    "## Restart the kernel\n",
    "\n",
    "To run the entire notebook, from scratch...\n",
    "1. Click the Kernel menu\n",
    "2. Click the entry: Restart & Run All\n",
    "<img src=\"images/restart_run.png\" width=\"250\">\n",
    "\n",
    "WARNING: this will delete any existing data or objects in memory."
   ]
  },
  {
   "cell_type": "markdown",
   "metadata": {},
   "source": [
    "# Markdown\n",
    "\n",
    "Note... Jeff will be doing a talk on Markdown, so this will simply give you the 30 second view and we will let Jeff's talk cover the heavy lifting.\n",
    "\n",
    "* Markdown is an easy to read, easy to write plaintext text format that converts **automagically** to html markup.\n",
    "* the most common HTML formats are readily available\n",
    "* the format is simple and generally intuitive.\n",
    "\n",
    "## Create a markdown cell\n",
    "\n",
    "1. To convert a cell from a code cell to a Markdown cell, click on the Code dropdown button in the center of the menu bar. \n",
    "<img src=\"images/nb_cell_content_dropdown.png\" width=\"400\">\n",
    "2. Select the 'Markdown' option.\n",
    "<img src=\"images/nb_markdown_dropdown.png\" width=\"280\">\n",
    "3. The cell will change into a Markdown cell and will accept Markdown formatting (as well as regular HTML). \n",
    "4. The Markdown will display properly when you execute the cell (i.e. press **Shift+Enter**.\n",
    "\n",
    "\n",
    "\n",
    "    \n",
    "\n",
    "\n",
    "\n"
   ]
  },
  {
   "cell_type": "markdown",
   "metadata": {},
   "source": [
    "## Sample markdown\n",
    "\n",
    "Here are just a few tidbits to tide you over regarding Markdown including the formatting AND the output.\n",
    "\n",
    "<img src=\"images/nb_markdown_sample.png\" width=\"600\">"
   ]
  },
  {
   "cell_type": "markdown",
   "metadata": {},
   "source": [
    "# Editing commands\n",
    "\n",
    "## Command versus Edit modes\n",
    "Jupyter Notebooks have two modes that provide access to keyboard shortcuts:\n",
    "* Command mode - Issue commands to edit, control the notebook\n",
    "* Edit mode - Edit the content of cells\n",
    "\n",
    "To access **Command (blue)** mode, press the ESC key.\n",
    "<img src=\"images/nb_command_blue.png\" width=\"200\">\n",
    "\n",
    "To access **Edit (green)** mode, press the Enter key.\n",
    "<img src=\"images/nb_edit_green.png\" width=\"200\">\n",
    "\n",
    "\n",
    "As an example... Copy / Paste\n",
    "\n",
    "1. Type **2 * 42** into an empty cell\n",
    "2. Press the **ESC** to enter Command mode\n",
    "3. Press **c** to copy the existing cell\n",
    "4. Press **v** to paste a copy of that cell\n",
    "\n",
    "Another example: convert to Markdown\n",
    "1. Ensure that you are in Command mode\n",
    "2. Press **m** to enter Markdown mode\n",
    "3. Press **Enter** to immediately revert to Edit mode to start editing your Markdown content."
   ]
  },
  {
   "cell_type": "markdown",
   "metadata": {},
   "source": [
    "## Cell selection\n",
    "\n",
    "We mentioned earlier that there are additional options in terms of running selected cells.\n",
    "\n",
    "Let's take a look at how to select multiple cells.\n",
    "\n",
    "1. Press the **ESC** key to enter Command mode\n",
    "2. Press **Shift** key and the **Up** or **Down Arrow** keys to select contiguous cells\n",
    "\n",
    "Once you have selected cells, you can perform many different actions on those cells like: **cut**, **paste**, **change cell type**, **execute code**, etc.\n",
    "\n",
    "\n"
   ]
  },
  {
   "cell_type": "markdown",
   "metadata": {},
   "source": [
    "## New cell, cut, copy & paste\n",
    "\n",
    "Try the following commands to improve your ability to create/edit your notebook:\n",
    "1. Press the **ESC** key to enter Command mode\n",
    "2. Press **a** to add a new cell above the cell you are currently in\n",
    "3. Press **b** to add a new cell below the cell you are currently in\n",
    "4. Press **x** to cut the cell you are in and save the content to the clipboard\n",
    "5. Press **v** to paste the clipboard content as a cell below the cell you are currently in\n",
    "6. Press **c** to copy the cell you are currently in\n",
    "6. Press **Shift+v** to paste the clipboard content as a cell above the cell you are currently in.\n",
    "7. Press **d** **d** (*d* twice) to delete a cell (NOTE: your cell will note be stored in the clipboard)."
   ]
  },
  {
   "cell_type": "markdown",
   "metadata": {},
   "source": [
    "## What else can you do?\n",
    "\n",
    "Jupyter has an entire assortment of commands on a **command palette**. To access the command palette:\n",
    "\n",
    "1. Click the Command Palette button\n",
    "<img src=\"images/nb_cmd_palette_btn.png\" width=\"50\">\n",
    "\n",
    "2. Search for the keyboard short cut for command palette.\n",
    "<img src=\"images/nb_cmd_palette_search.png\" width=\"600\">\n",
    "\n",
    "On my Mac, it is this:\n",
    "<img src=\"images/nb_cmd_palette_shortcut.png\" width=\"60\">\n",
    "\n",
    "Think of some of your most common editing tasks and try to find the keyboard shortcut to activate those actions (the following are some ideas):\n",
    "* find and replace (you can even use *regex!* >>> but now you have two problems)\n",
    "* merge cells\n",
    "* split a cell at the cursor\n",
    "* undo cell deletion"
   ]
  },
  {
   "cell_type": "markdown",
   "metadata": {},
   "source": [
    "# Experience Points (XP)\n",
    "---"
   ]
  },
  {
   "cell_type": "code",
   "execution_count": null,
   "metadata": {},
   "outputs": [],
   "source": []
  },
  {
   "cell_type": "code",
   "execution_count": null,
   "metadata": {},
   "outputs": [],
   "source": []
  },
  {
   "cell_type": "markdown",
   "metadata": {},
   "source": [
    "When you complete this exercise, please put your green post-it on your monitor. \n",
    "\n",
    "If you want to continue on at your own-pace, please feel free to do so.\n",
    "\n",
    "<img src='./images/green_sticky.300px.png' width='200' style='float:left'>"
   ]
  },
  {
   "cell_type": "markdown",
   "metadata": {},
   "source": [
    "# Header\n",
    "---"
   ]
  },
  {
   "cell_type": "code",
   "execution_count": null,
   "metadata": {},
   "outputs": [],
   "source": []
  },
  {
   "cell_type": "code",
   "execution_count": null,
   "metadata": {},
   "outputs": [],
   "source": []
  },
  {
   "cell_type": "markdown",
   "metadata": {},
   "source": [
    "Looks like you are done here! **Congrats**.\n",
    "\n",
    "Please proceed to the next lesson."
   ]
  },
  {
   "cell_type": "code",
   "execution_count": null,
   "metadata": {},
   "outputs": [],
   "source": []
  }
 ],
 "metadata": {
  "kernelspec": {
   "display_name": "Python 3",
   "language": "python",
   "name": "python3"
  },
  "language_info": {
   "codemirror_mode": {
    "name": "ipython",
    "version": 3
   },
   "file_extension": ".py",
   "mimetype": "text/x-python",
   "name": "python",
   "nbconvert_exporter": "python",
   "pygments_lexer": "ipython3",
   "version": "3.6.4"
  }
 },
 "nbformat": 4,
 "nbformat_minor": 2
}
