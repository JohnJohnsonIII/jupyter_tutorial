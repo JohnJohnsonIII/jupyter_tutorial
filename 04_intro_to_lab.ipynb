{
 "cells": [
  {
   "cell_type": "markdown",
   "metadata": {},
   "source": [
    "# HEADER\n",
    "## Subtitle\n",
    "\n",
    "<img src=\"images/logos.3.600.wide.png\" width=\"600\" align='right'>\n",
    "\n",
    "### Chalmer Lowe\n",
    "\n",
    "---"
   ]
  },
  {
   "cell_type": "markdown",
   "metadata": {},
   "source": [
    "# Overview\n",
    "---"
   ]
  },
  {
   "cell_type": "code",
   "execution_count": null,
   "metadata": {},
   "outputs": [],
   "source": []
  },
  {
   "cell_type": "markdown",
   "metadata": {},
   "source": [
    "# Objectives\n",
    "---"
   ]
  },
  {
   "cell_type": "markdown",
   "metadata": {},
   "source": [
    "* x\n",
    "* x\n",
    "* x\n",
    "* x\n",
    "* x\n",
    "\n",
    "\n",
    "\n",
    "3) Overview of Jupyter Lab interface (10 mins - hands-on)\n",
    "   * The sidepanel\n",
    "     * The File Manager\n",
    "     * The File Manager toolbar\n",
    "   * Using the Launcher\n",
    "     * Open a Notebook, a console, a terminal, a text editor\n",
    "   * Managing Notebooks\n",
    "   * The main menu\n",
    "   * Drag and drop tabs/panels\n",
    "\n"
   ]
  },
  {
   "cell_type": "markdown",
   "metadata": {},
   "source": [
    "|Learning level|Associated action verbs|\n",
    "|:-|:-|\n",
    "|Knowledge|define, describe, state, list, name, write, recall, recognize, label, underline, select, reproduce, outline, match|\n",
    "|Comprehension|identify, justify, select, indicate, illustrate, represent, name, formulate, explain, judge, contrast, classify|\n",
    "|Application|predict, select, assess, explain, choose, find, show, demonstrate, construct, compute, use, perform|\n",
    "|Analysis|analyze, identify, conclude, differentiate, select, separate, compare, contrast, justify, resolve, break down, criticize|\n",
    "|Synthesis|combine, restate, summarize, precise, argue, discuss, organize, derive, select, relate, generalize, conclude|\n",
    "|Evaluation|judge, evaluate, determine, recognize, support, defend, attack, criticize, identify, avoid, select, choose|\n"
   ]
  },
  {
   "cell_type": "markdown",
   "metadata": {},
   "source": [
    "# Header\n",
    "---"
   ]
  },
  {
   "cell_type": "code",
   "execution_count": null,
   "metadata": {},
   "outputs": [],
   "source": []
  },
  {
   "cell_type": "markdown",
   "metadata": {},
   "source": [
    "# Experience Points (XP)\n",
    "---"
   ]
  },
  {
   "cell_type": "code",
   "execution_count": null,
   "metadata": {},
   "outputs": [],
   "source": []
  },
  {
   "cell_type": "code",
   "execution_count": null,
   "metadata": {},
   "outputs": [],
   "source": []
  },
  {
   "cell_type": "markdown",
   "metadata": {},
   "source": [
    "When you complete this exercise, please put your green post-it on your monitor. \n",
    "\n",
    "If you want to continue on at your own-pace, please feel free to do so.\n",
    "\n",
    "<img src='./images/green_sticky.300px.png' width='200' style='float:left'>"
   ]
  },
  {
   "cell_type": "markdown",
   "metadata": {},
   "source": [
    "# Header\n",
    "---"
   ]
  },
  {
   "cell_type": "code",
   "execution_count": null,
   "metadata": {},
   "outputs": [],
   "source": []
  },
  {
   "cell_type": "code",
   "execution_count": null,
   "metadata": {},
   "outputs": [],
   "source": []
  },
  {
   "cell_type": "markdown",
   "metadata": {},
   "source": [
    "Looks like you are done here! **Congrats**.\n",
    "\n",
    "Please proceed to the next lesson."
   ]
  },
  {
   "cell_type": "code",
   "execution_count": null,
   "metadata": {},
   "outputs": [],
   "source": []
  }
 ],
 "metadata": {
  "kernelspec": {
   "display_name": "Python 3",
   "language": "python",
   "name": "python3"
  },
  "language_info": {
   "codemirror_mode": {
    "name": "ipython",
    "version": 3
   },
   "file_extension": ".py",
   "mimetype": "text/x-python",
   "name": "python",
   "nbconvert_exporter": "python",
   "pygments_lexer": "ipython3",
   "version": "3.6.4"
  }
 },
 "nbformat": 4,
 "nbformat_minor": 2
}
